{
  "nbformat": 4,
  "nbformat_minor": 0,
  "metadata": {
    "colab": {
      "provenance": [],
      "authorship_tag": "ABX9TyOQKAU8bEd/u4aEJCcceUfR",
      "include_colab_link": true
    },
    "kernelspec": {
      "name": "python3",
      "display_name": "Python 3"
    },
    "language_info": {
      "name": "python"
    }
  },
  "cells": [
    {
      "cell_type": "markdown",
      "metadata": {
        "id": "view-in-github",
        "colab_type": "text"
      },
      "source": [
        "<a href=\"https://colab.research.google.com/github/ArunK-ML/Testing---Hugging-Face---Lib/blob/main/Huggingface_test.ipynb\" target=\"_parent\"><img src=\"https://colab.research.google.com/assets/colab-badge.svg\" alt=\"Open In Colab\"/></a>"
      ]
    },
    {
      "cell_type": "code",
      "execution_count": null,
      "metadata": {
        "id": "6CKjpNmUy5Qa"
      },
      "outputs": [],
      "source": [
        "from huggingface_hub import login\n",
        "\n",
        "login(---)"
      ]
    },
    {
      "cell_type": "code",
      "source": [
        "import os\n",
        "from huggingface_hub import InferenceClient\n",
        "\n",
        "client = InferenceClient(\n",
        "    provider=\"nscale\",\n",
        "    api_key=\"hf_----\"\n",
        ")\n",
        "\n",
        "# output is a PIL.Image object\n",
        "image = client.text_to_image(\n",
        "    \"Actor Vijay playing Squid game\",\n",
        "    model=\"stabilityai/stable-diffusion-xl-base-1.0\",\n",
        ")"
      ],
      "metadata": {
        "id": "_iavkvNyzBQn"
      },
      "execution_count": null,
      "outputs": []
    },
    {
      "cell_type": "code",
      "source": [
        "image"
      ],
      "metadata": {
        "id": "FJNREfc_zEYn"
      },
      "execution_count": null,
      "outputs": []
    },
    {
      "cell_type": "markdown",
      "source": [
        "check :  https://hific.github.io/"
      ],
      "metadata": {
        "id": "PI_ph3tHzM_Y"
      }
    }
  ]
}